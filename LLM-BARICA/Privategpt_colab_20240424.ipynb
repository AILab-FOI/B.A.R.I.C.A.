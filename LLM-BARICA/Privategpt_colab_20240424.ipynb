{
  "cells": [
    {
      "cell_type": "code",
      "execution_count": 1,
      "metadata": {
        "colab": {
          "base_uri": "https://localhost:8080/"
        },
        "id": "HdoicDrhhpIS",
        "outputId": "14ae4b15-f006-49ea-ac1c-e40f757438c4"
      },
      "outputs": [
        {
          "output_type": "stream",
          "name": "stdout",
          "text": [
            "Drive already mounted at /content/drive; to attempt to forcibly remount, call drive.mount(\"/content/drive\", force_remount=True).\n"
          ]
        }
      ],
      "source": [
        "from google.colab import drive\n",
        "drive.mount('/content/drive')"
      ]
    },
    {
      "cell_type": "code",
      "execution_count": 2,
      "metadata": {
        "colab": {
          "base_uri": "https://localhost:8080/"
        },
        "id": "Svl343pw0hlG",
        "outputId": "8cfb0e08-65bc-4333-a559-0b87acd83fda"
      },
      "outputs": [
        {
          "output_type": "stream",
          "name": "stdout",
          "text": [
            "/content/drive/MyDrive\n",
            "fatal: destination path 'privateGPT' already exists and is not an empty directory.\n"
          ]
        }
      ],
      "source": [
        "# Install the GPU branch\n",
        "%cd /content/drive/MyDrive\n",
        "!git clone -b gpu https://github.com/maozdemir/privateGPT"
      ]
    },
    {
      "cell_type": "code",
      "execution_count": 3,
      "metadata": {
        "colab": {
          "base_uri": "https://localhost:8080/"
        },
        "id": "tGVg-tfi0zxb",
        "outputId": "d40e962e-85d0-477c-e817-bb5f6feea25f"
      },
      "outputs": [
        {
          "output_type": "stream",
          "name": "stdout",
          "text": [
            "/content/drive/MyDrive/privateGPT\n",
            "Requirement already satisfied: langchain==0.0.177 in /usr/local/lib/python3.10/dist-packages (from -r requirements.txt (line 1)) (0.0.177)\n",
            "Requirement already satisfied: gpt4all==0.2.3 in /usr/local/lib/python3.10/dist-packages (from -r requirements.txt (line 2)) (0.2.3)\n",
            "Requirement already satisfied: chromadb==0.3.23 in /usr/local/lib/python3.10/dist-packages (from -r requirements.txt (line 3)) (0.3.23)\n",
            "Collecting llama-cpp-python==0.1.50 (from -r requirements.txt (line 4))\n",
            "  Using cached llama_cpp_python-0.1.50-cp310-cp310-linux_x86_64.whl\n",
            "Requirement already satisfied: urllib3==2.0.2 in /usr/local/lib/python3.10/dist-packages (from -r requirements.txt (line 5)) (2.0.2)\n",
            "Requirement already satisfied: pdfminer.six==20221105 in /usr/local/lib/python3.10/dist-packages (from -r requirements.txt (line 6)) (20221105)\n",
            "Requirement already satisfied: python-dotenv==1.0.0 in /usr/local/lib/python3.10/dist-packages (from -r requirements.txt (line 7)) (1.0.0)\n",
            "Requirement already satisfied: unstructured==0.6.6 in /usr/local/lib/python3.10/dist-packages (from -r requirements.txt (line 8)) (0.6.6)\n",
            "Requirement already satisfied: extract-msg==0.41.1 in /usr/local/lib/python3.10/dist-packages (from -r requirements.txt (line 9)) (0.41.1)\n",
            "Requirement already satisfied: tabulate==0.9.0 in /usr/local/lib/python3.10/dist-packages (from -r requirements.txt (line 10)) (0.9.0)\n",
            "Requirement already satisfied: pandoc==2.3 in /usr/local/lib/python3.10/dist-packages (from -r requirements.txt (line 11)) (2.3)\n",
            "Requirement already satisfied: pypandoc==1.11 in /usr/local/lib/python3.10/dist-packages (from -r requirements.txt (line 12)) (1.11)\n",
            "Requirement already satisfied: tqdm==4.65.0 in /usr/local/lib/python3.10/dist-packages (from -r requirements.txt (line 13)) (4.65.0)\n",
            "Requirement already satisfied: PyYAML>=5.4.1 in /usr/local/lib/python3.10/dist-packages (from langchain==0.0.177->-r requirements.txt (line 1)) (6.0.1)\n",
            "Requirement already satisfied: SQLAlchemy<3,>=1.4 in /usr/local/lib/python3.10/dist-packages (from langchain==0.0.177->-r requirements.txt (line 1)) (2.0.30)\n",
            "Requirement already satisfied: aiohttp<4.0.0,>=3.8.3 in /usr/local/lib/python3.10/dist-packages (from langchain==0.0.177->-r requirements.txt (line 1)) (3.9.5)\n",
            "Requirement already satisfied: async-timeout<5.0.0,>=4.0.0 in /usr/local/lib/python3.10/dist-packages (from langchain==0.0.177->-r requirements.txt (line 1)) (4.0.3)\n",
            "Requirement already satisfied: dataclasses-json<0.6.0,>=0.5.7 in /usr/local/lib/python3.10/dist-packages (from langchain==0.0.177->-r requirements.txt (line 1)) (0.5.14)\n",
            "Requirement already satisfied: numexpr<3.0.0,>=2.8.4 in /usr/local/lib/python3.10/dist-packages (from langchain==0.0.177->-r requirements.txt (line 1)) (2.10.0)\n",
            "Requirement already satisfied: numpy<2,>=1 in /usr/local/lib/python3.10/dist-packages (from langchain==0.0.177->-r requirements.txt (line 1)) (1.23.5)\n",
            "Requirement already satisfied: openapi-schema-pydantic<2.0,>=1.2 in /usr/local/lib/python3.10/dist-packages (from langchain==0.0.177->-r requirements.txt (line 1)) (1.2.4)\n",
            "Requirement already satisfied: pydantic<2,>=1 in /usr/local/lib/python3.10/dist-packages (from langchain==0.0.177->-r requirements.txt (line 1)) (1.10.15)\n",
            "Requirement already satisfied: requests<3,>=2 in /usr/local/lib/python3.10/dist-packages (from langchain==0.0.177->-r requirements.txt (line 1)) (2.31.0)\n",
            "Requirement already satisfied: tenacity<9.0.0,>=8.1.0 in /usr/local/lib/python3.10/dist-packages (from langchain==0.0.177->-r requirements.txt (line 1)) (8.3.0)\n",
            "Requirement already satisfied: pandas>=1.3 in /usr/local/lib/python3.10/dist-packages (from chromadb==0.3.23->-r requirements.txt (line 3)) (1.5.3)\n",
            "Requirement already satisfied: hnswlib>=0.7 in /usr/local/lib/python3.10/dist-packages (from chromadb==0.3.23->-r requirements.txt (line 3)) (0.8.0)\n",
            "Requirement already satisfied: clickhouse-connect>=0.5.7 in /usr/local/lib/python3.10/dist-packages (from chromadb==0.3.23->-r requirements.txt (line 3)) (0.7.10)\n",
            "Requirement already satisfied: sentence-transformers>=2.2.2 in /usr/local/lib/python3.10/dist-packages (from chromadb==0.3.23->-r requirements.txt (line 3)) (2.7.0)\n",
            "Requirement already satisfied: duckdb>=0.7.1 in /usr/local/lib/python3.10/dist-packages (from chromadb==0.3.23->-r requirements.txt (line 3)) (0.10.2)\n",
            "Requirement already satisfied: fastapi>=0.85.1 in /usr/local/lib/python3.10/dist-packages (from chromadb==0.3.23->-r requirements.txt (line 3)) (0.111.0)\n",
            "Requirement already satisfied: uvicorn[standard]>=0.18.3 in /usr/local/lib/python3.10/dist-packages (from chromadb==0.3.23->-r requirements.txt (line 3)) (0.29.0)\n",
            "Requirement already satisfied: posthog>=2.4.0 in /usr/local/lib/python3.10/dist-packages (from chromadb==0.3.23->-r requirements.txt (line 3)) (3.5.0)\n",
            "Requirement already satisfied: typing-extensions>=4.5.0 in /usr/local/lib/python3.10/dist-packages (from chromadb==0.3.23->-r requirements.txt (line 3)) (4.12.0)\n",
            "Requirement already satisfied: charset-normalizer>=2.0.0 in /usr/local/lib/python3.10/dist-packages (from pdfminer.six==20221105->-r requirements.txt (line 6)) (3.3.2)\n",
            "Requirement already satisfied: cryptography>=36.0.0 in /usr/local/lib/python3.10/dist-packages (from pdfminer.six==20221105->-r requirements.txt (line 6)) (42.0.7)\n",
            "Requirement already satisfied: argilla in /usr/local/lib/python3.10/dist-packages (from unstructured==0.6.6->-r requirements.txt (line 8)) (1.11.0)\n",
            "Requirement already satisfied: lxml in /usr/local/lib/python3.10/dist-packages (from unstructured==0.6.6->-r requirements.txt (line 8)) (4.9.4)\n",
            "Requirement already satisfied: msg-parser in /usr/local/lib/python3.10/dist-packages (from unstructured==0.6.6->-r requirements.txt (line 8)) (1.2.0)\n",
            "Requirement already satisfied: nltk in /usr/local/lib/python3.10/dist-packages (from unstructured==0.6.6->-r requirements.txt (line 8)) (3.8.1)\n",
            "Requirement already satisfied: openpyxl in /usr/local/lib/python3.10/dist-packages (from unstructured==0.6.6->-r requirements.txt (line 8)) (3.1.2)\n",
            "Requirement already satisfied: pillow in /usr/local/lib/python3.10/dist-packages (from unstructured==0.6.6->-r requirements.txt (line 8)) (9.4.0)\n",
            "Requirement already satisfied: python-docx in /usr/local/lib/python3.10/dist-packages (from unstructured==0.6.6->-r requirements.txt (line 8)) (1.1.2)\n",
            "Requirement already satisfied: python-pptx in /usr/local/lib/python3.10/dist-packages (from unstructured==0.6.6->-r requirements.txt (line 8)) (0.6.23)\n",
            "Requirement already satisfied: python-magic in /usr/local/lib/python3.10/dist-packages (from unstructured==0.6.6->-r requirements.txt (line 8)) (0.4.27)\n",
            "Requirement already satisfied: markdown in /usr/local/lib/python3.10/dist-packages (from unstructured==0.6.6->-r requirements.txt (line 8)) (3.6)\n",
            "Requirement already satisfied: certifi>=2022.12.07 in /usr/local/lib/python3.10/dist-packages (from unstructured==0.6.6->-r requirements.txt (line 8)) (2024.2.2)\n",
            "Requirement already satisfied: imapclient<3,>=2.3.0 in /usr/local/lib/python3.10/dist-packages (from extract-msg==0.41.1->-r requirements.txt (line 9)) (2.3.1)\n",
            "Requirement already satisfied: olefile==0.46 in /usr/local/lib/python3.10/dist-packages (from extract-msg==0.41.1->-r requirements.txt (line 9)) (0.46)\n",
            "Requirement already satisfied: tzlocal==4.2 in /usr/local/lib/python3.10/dist-packages (from extract-msg==0.41.1->-r requirements.txt (line 9)) (4.2)\n",
            "Requirement already satisfied: compressed-rtf==1.0.6 in /usr/local/lib/python3.10/dist-packages (from extract-msg==0.41.1->-r requirements.txt (line 9)) (1.0.6)\n",
            "Requirement already satisfied: ebcdic==1.1.1 in /usr/local/lib/python3.10/dist-packages (from extract-msg==0.41.1->-r requirements.txt (line 9)) (1.1.1)\n",
            "Requirement already satisfied: beautifulsoup4<4.13,>=4.11.1 in /usr/local/lib/python3.10/dist-packages (from extract-msg==0.41.1->-r requirements.txt (line 9)) (4.12.3)\n",
            "Requirement already satisfied: RTFDE==0.0.2 in /usr/local/lib/python3.10/dist-packages (from extract-msg==0.41.1->-r requirements.txt (line 9)) (0.0.2)\n",
            "Requirement already satisfied: chardet<6,>=4.0.0 in /usr/local/lib/python3.10/dist-packages (from extract-msg==0.41.1->-r requirements.txt (line 9)) (5.2.0)\n",
            "Requirement already satisfied: red-black-tree-mod==1.20 in /usr/local/lib/python3.10/dist-packages (from extract-msg==0.41.1->-r requirements.txt (line 9)) (1.20)\n",
            "Requirement already satisfied: plumbum in /usr/local/lib/python3.10/dist-packages (from pandoc==2.3->-r requirements.txt (line 11)) (1.8.3)\n",
            "Requirement already satisfied: ply in /usr/local/lib/python3.10/dist-packages (from pandoc==2.3->-r requirements.txt (line 11)) (3.11)\n",
            "Requirement already satisfied: lark-parser>=0.11 in /usr/local/lib/python3.10/dist-packages (from RTFDE==0.0.2->extract-msg==0.41.1->-r requirements.txt (line 9)) (0.12.0)\n",
            "Requirement already satisfied: oletools>=0.56 in /usr/local/lib/python3.10/dist-packages (from RTFDE==0.0.2->extract-msg==0.41.1->-r requirements.txt (line 9)) (0.60.1)\n",
            "Requirement already satisfied: pytz-deprecation-shim in /usr/local/lib/python3.10/dist-packages (from tzlocal==4.2->extract-msg==0.41.1->-r requirements.txt (line 9)) (0.1.0.post0)\n",
            "Requirement already satisfied: aiosignal>=1.1.2 in /usr/local/lib/python3.10/dist-packages (from aiohttp<4.0.0,>=3.8.3->langchain==0.0.177->-r requirements.txt (line 1)) (1.3.1)\n",
            "Requirement already satisfied: attrs>=17.3.0 in /usr/local/lib/python3.10/dist-packages (from aiohttp<4.0.0,>=3.8.3->langchain==0.0.177->-r requirements.txt (line 1)) (23.2.0)\n",
            "Requirement already satisfied: frozenlist>=1.1.1 in /usr/local/lib/python3.10/dist-packages (from aiohttp<4.0.0,>=3.8.3->langchain==0.0.177->-r requirements.txt (line 1)) (1.4.1)\n",
            "Requirement already satisfied: multidict<7.0,>=4.5 in /usr/local/lib/python3.10/dist-packages (from aiohttp<4.0.0,>=3.8.3->langchain==0.0.177->-r requirements.txt (line 1)) (6.0.5)\n",
            "Requirement already satisfied: yarl<2.0,>=1.0 in /usr/local/lib/python3.10/dist-packages (from aiohttp<4.0.0,>=3.8.3->langchain==0.0.177->-r requirements.txt (line 1)) (1.9.4)\n",
            "Requirement already satisfied: soupsieve>1.2 in /usr/local/lib/python3.10/dist-packages (from beautifulsoup4<4.13,>=4.11.1->extract-msg==0.41.1->-r requirements.txt (line 9)) (2.5)\n",
            "Requirement already satisfied: pytz in /usr/local/lib/python3.10/dist-packages (from clickhouse-connect>=0.5.7->chromadb==0.3.23->-r requirements.txt (line 3)) (2023.4)\n",
            "Requirement already satisfied: zstandard in /usr/local/lib/python3.10/dist-packages (from clickhouse-connect>=0.5.7->chromadb==0.3.23->-r requirements.txt (line 3)) (0.22.0)\n",
            "Requirement already satisfied: lz4 in /usr/local/lib/python3.10/dist-packages (from clickhouse-connect>=0.5.7->chromadb==0.3.23->-r requirements.txt (line 3)) (4.3.3)\n",
            "Requirement already satisfied: cffi>=1.12 in /usr/local/lib/python3.10/dist-packages (from cryptography>=36.0.0->pdfminer.six==20221105->-r requirements.txt (line 6)) (1.16.0)\n",
            "Requirement already satisfied: marshmallow<4.0.0,>=3.18.0 in /usr/local/lib/python3.10/dist-packages (from dataclasses-json<0.6.0,>=0.5.7->langchain==0.0.177->-r requirements.txt (line 1)) (3.21.2)\n",
            "Requirement already satisfied: typing-inspect<1,>=0.4.0 in /usr/local/lib/python3.10/dist-packages (from dataclasses-json<0.6.0,>=0.5.7->langchain==0.0.177->-r requirements.txt (line 1)) (0.9.0)\n",
            "Requirement already satisfied: starlette<0.38.0,>=0.37.2 in /usr/local/lib/python3.10/dist-packages (from fastapi>=0.85.1->chromadb==0.3.23->-r requirements.txt (line 3)) (0.37.2)\n",
            "Requirement already satisfied: fastapi-cli>=0.0.2 in /usr/local/lib/python3.10/dist-packages (from fastapi>=0.85.1->chromadb==0.3.23->-r requirements.txt (line 3)) (0.0.4)\n",
            "Requirement already satisfied: httpx>=0.23.0 in /usr/local/lib/python3.10/dist-packages (from fastapi>=0.85.1->chromadb==0.3.23->-r requirements.txt (line 3)) (0.23.3)\n",
            "Requirement already satisfied: jinja2>=2.11.2 in /usr/local/lib/python3.10/dist-packages (from fastapi>=0.85.1->chromadb==0.3.23->-r requirements.txt (line 3)) (3.1.4)\n",
            "Requirement already satisfied: python-multipart>=0.0.7 in /usr/local/lib/python3.10/dist-packages (from fastapi>=0.85.1->chromadb==0.3.23->-r requirements.txt (line 3)) (0.0.9)\n",
            "Requirement already satisfied: ujson!=4.0.2,!=4.1.0,!=4.2.0,!=4.3.0,!=5.0.0,!=5.1.0,>=4.0.1 in /usr/local/lib/python3.10/dist-packages (from fastapi>=0.85.1->chromadb==0.3.23->-r requirements.txt (line 3)) (5.10.0)\n",
            "Requirement already satisfied: orjson>=3.2.1 in /usr/local/lib/python3.10/dist-packages (from fastapi>=0.85.1->chromadb==0.3.23->-r requirements.txt (line 3)) (3.10.3)\n",
            "Requirement already satisfied: email_validator>=2.0.0 in /usr/local/lib/python3.10/dist-packages (from fastapi>=0.85.1->chromadb==0.3.23->-r requirements.txt (line 3)) (2.1.1)\n",
            "Requirement already satisfied: six in /usr/local/lib/python3.10/dist-packages (from imapclient<3,>=2.3.0->extract-msg==0.41.1->-r requirements.txt (line 9)) (1.16.0)\n",
            "Requirement already satisfied: python-dateutil>=2.8.1 in /usr/local/lib/python3.10/dist-packages (from pandas>=1.3->chromadb==0.3.23->-r requirements.txt (line 3)) (2.8.2)\n",
            "Requirement already satisfied: monotonic>=1.5 in /usr/local/lib/python3.10/dist-packages (from posthog>=2.4.0->chromadb==0.3.23->-r requirements.txt (line 3)) (1.6)\n",
            "Requirement already satisfied: backoff>=1.10.0 in /usr/local/lib/python3.10/dist-packages (from posthog>=2.4.0->chromadb==0.3.23->-r requirements.txt (line 3)) (2.2.1)\n",
            "Requirement already satisfied: idna<4,>=2.5 in /usr/local/lib/python3.10/dist-packages (from requests<3,>=2->langchain==0.0.177->-r requirements.txt (line 1)) (3.7)\n",
            "Requirement already satisfied: transformers<5.0.0,>=4.34.0 in /usr/local/lib/python3.10/dist-packages (from sentence-transformers>=2.2.2->chromadb==0.3.23->-r requirements.txt (line 3)) (4.41.0)\n",
            "Requirement already satisfied: torch>=1.11.0 in /usr/local/lib/python3.10/dist-packages (from sentence-transformers>=2.2.2->chromadb==0.3.23->-r requirements.txt (line 3)) (2.3.0+cu121)\n",
            "Requirement already satisfied: scikit-learn in /usr/local/lib/python3.10/dist-packages (from sentence-transformers>=2.2.2->chromadb==0.3.23->-r requirements.txt (line 3)) (1.2.2)\n",
            "Requirement already satisfied: scipy in /usr/local/lib/python3.10/dist-packages (from sentence-transformers>=2.2.2->chromadb==0.3.23->-r requirements.txt (line 3)) (1.11.4)\n",
            "Requirement already satisfied: huggingface-hub>=0.15.1 in /usr/local/lib/python3.10/dist-packages (from sentence-transformers>=2.2.2->chromadb==0.3.23->-r requirements.txt (line 3)) (0.23.1)\n",
            "Requirement already satisfied: greenlet!=0.4.17 in /usr/local/lib/python3.10/dist-packages (from SQLAlchemy<3,>=1.4->langchain==0.0.177->-r requirements.txt (line 1)) (3.0.3)\n",
            "Requirement already satisfied: click>=7.0 in /usr/local/lib/python3.10/dist-packages (from uvicorn[standard]>=0.18.3->chromadb==0.3.23->-r requirements.txt (line 3)) (8.1.7)\n",
            "Requirement already satisfied: h11>=0.8 in /usr/local/lib/python3.10/dist-packages (from uvicorn[standard]>=0.18.3->chromadb==0.3.23->-r requirements.txt (line 3)) (0.14.0)\n",
            "Requirement already satisfied: httptools>=0.5.0 in /usr/local/lib/python3.10/dist-packages (from uvicorn[standard]>=0.18.3->chromadb==0.3.23->-r requirements.txt (line 3)) (0.6.1)\n",
            "Requirement already satisfied: uvloop!=0.15.0,!=0.15.1,>=0.14.0 in /usr/local/lib/python3.10/dist-packages (from uvicorn[standard]>=0.18.3->chromadb==0.3.23->-r requirements.txt (line 3)) (0.19.0)\n",
            "Requirement already satisfied: watchfiles>=0.13 in /usr/local/lib/python3.10/dist-packages (from uvicorn[standard]>=0.18.3->chromadb==0.3.23->-r requirements.txt (line 3)) (0.21.0)\n",
            "Requirement already satisfied: websockets>=10.4 in /usr/local/lib/python3.10/dist-packages (from uvicorn[standard]>=0.18.3->chromadb==0.3.23->-r requirements.txt (line 3)) (12.0)\n",
            "Requirement already satisfied: deprecated~=1.2.0 in /usr/local/lib/python3.10/dist-packages (from argilla->unstructured==0.6.6->-r requirements.txt (line 8)) (1.2.14)\n",
            "Requirement already satisfied: packaging>=20.0 in /usr/local/lib/python3.10/dist-packages (from argilla->unstructured==0.6.6->-r requirements.txt (line 8)) (24.0)\n",
            "Requirement already satisfied: wrapt<1.15,>=1.13 in /usr/local/lib/python3.10/dist-packages (from argilla->unstructured==0.6.6->-r requirements.txt (line 8)) (1.14.1)\n",
            "Requirement already satisfied: rich<=13.0.1 in /usr/local/lib/python3.10/dist-packages (from argilla->unstructured==0.6.6->-r requirements.txt (line 8)) (13.0.1)\n",
            "Requirement already satisfied: typer<1.0.0,>=0.6.0 in /usr/local/lib/python3.10/dist-packages (from argilla->unstructured==0.6.6->-r requirements.txt (line 8)) (0.12.3)\n",
            "Requirement already satisfied: joblib in /usr/local/lib/python3.10/dist-packages (from nltk->unstructured==0.6.6->-r requirements.txt (line 8)) (1.4.2)\n",
            "Requirement already satisfied: regex>=2021.8.3 in /usr/local/lib/python3.10/dist-packages (from nltk->unstructured==0.6.6->-r requirements.txt (line 8)) (2023.12.25)\n",
            "Requirement already satisfied: et-xmlfile in /usr/local/lib/python3.10/dist-packages (from openpyxl->unstructured==0.6.6->-r requirements.txt (line 8)) (1.1.0)\n",
            "Requirement already satisfied: XlsxWriter>=0.5.7 in /usr/local/lib/python3.10/dist-packages (from python-pptx->unstructured==0.6.6->-r requirements.txt (line 8)) (3.2.0)\n",
            "Requirement already satisfied: pycparser in /usr/local/lib/python3.10/dist-packages (from cffi>=1.12->cryptography>=36.0.0->pdfminer.six==20221105->-r requirements.txt (line 6)) (2.22)\n",
            "Requirement already satisfied: dnspython>=2.0.0 in /usr/local/lib/python3.10/dist-packages (from email_validator>=2.0.0->fastapi>=0.85.1->chromadb==0.3.23->-r requirements.txt (line 3)) (2.6.1)\n",
            "Requirement already satisfied: httpcore<0.17.0,>=0.15.0 in /usr/local/lib/python3.10/dist-packages (from httpx>=0.23.0->fastapi>=0.85.1->chromadb==0.3.23->-r requirements.txt (line 3)) (0.16.3)\n",
            "Requirement already satisfied: rfc3986[idna2008]<2,>=1.3 in /usr/local/lib/python3.10/dist-packages (from httpx>=0.23.0->fastapi>=0.85.1->chromadb==0.3.23->-r requirements.txt (line 3)) (1.5.0)\n",
            "Requirement already satisfied: sniffio in /usr/local/lib/python3.10/dist-packages (from httpx>=0.23.0->fastapi>=0.85.1->chromadb==0.3.23->-r requirements.txt (line 3)) (1.3.1)\n",
            "Requirement already satisfied: filelock in /usr/local/lib/python3.10/dist-packages (from huggingface-hub>=0.15.1->sentence-transformers>=2.2.2->chromadb==0.3.23->-r requirements.txt (line 3)) (3.14.0)\n",
            "Requirement already satisfied: fsspec>=2023.5.0 in /usr/local/lib/python3.10/dist-packages (from huggingface-hub>=0.15.1->sentence-transformers>=2.2.2->chromadb==0.3.23->-r requirements.txt (line 3)) (2023.6.0)\n",
            "Requirement already satisfied: MarkupSafe>=2.0 in /usr/local/lib/python3.10/dist-packages (from jinja2>=2.11.2->fastapi>=0.85.1->chromadb==0.3.23->-r requirements.txt (line 3)) (2.1.5)\n",
            "Requirement already satisfied: pyparsing<3,>=2.1.0 in /usr/local/lib/python3.10/dist-packages (from oletools>=0.56->RTFDE==0.0.2->extract-msg==0.41.1->-r requirements.txt (line 9)) (2.4.7)\n",
            "Requirement already satisfied: easygui in /usr/local/lib/python3.10/dist-packages (from oletools>=0.56->RTFDE==0.0.2->extract-msg==0.41.1->-r requirements.txt (line 9)) (0.98.3)\n",
            "Requirement already satisfied: colorclass in /usr/local/lib/python3.10/dist-packages (from oletools>=0.56->RTFDE==0.0.2->extract-msg==0.41.1->-r requirements.txt (line 9)) (2.2.2)\n",
            "Requirement already satisfied: pcodedmp>=1.2.5 in /usr/local/lib/python3.10/dist-packages (from oletools>=0.56->RTFDE==0.0.2->extract-msg==0.41.1->-r requirements.txt (line 9)) (1.2.6)\n",
            "Requirement already satisfied: msoffcrypto-tool in /usr/local/lib/python3.10/dist-packages (from oletools>=0.56->RTFDE==0.0.2->extract-msg==0.41.1->-r requirements.txt (line 9)) (5.4.0)\n",
            "Requirement already satisfied: commonmark<0.10.0,>=0.9.0 in /usr/local/lib/python3.10/dist-packages (from rich<=13.0.1->argilla->unstructured==0.6.6->-r requirements.txt (line 8)) (0.9.1)\n",
            "Requirement already satisfied: pygments<3.0.0,>=2.6.0 in /usr/local/lib/python3.10/dist-packages (from rich<=13.0.1->argilla->unstructured==0.6.6->-r requirements.txt (line 8)) (2.16.1)\n",
            "Requirement already satisfied: anyio<5,>=3.4.0 in /usr/local/lib/python3.10/dist-packages (from starlette<0.38.0,>=0.37.2->fastapi>=0.85.1->chromadb==0.3.23->-r requirements.txt (line 3)) (3.7.1)\n",
            "Requirement already satisfied: sympy in /usr/local/lib/python3.10/dist-packages (from torch>=1.11.0->sentence-transformers>=2.2.2->chromadb==0.3.23->-r requirements.txt (line 3)) (1.12)\n",
            "Requirement already satisfied: networkx in /usr/local/lib/python3.10/dist-packages (from torch>=1.11.0->sentence-transformers>=2.2.2->chromadb==0.3.23->-r requirements.txt (line 3)) (3.3)\n",
            "Requirement already satisfied: nvidia-cuda-nvrtc-cu12==12.1.105 in /usr/local/lib/python3.10/dist-packages (from torch>=1.11.0->sentence-transformers>=2.2.2->chromadb==0.3.23->-r requirements.txt (line 3)) (12.1.105)\n",
            "Requirement already satisfied: nvidia-cuda-runtime-cu12==12.1.105 in /usr/local/lib/python3.10/dist-packages (from torch>=1.11.0->sentence-transformers>=2.2.2->chromadb==0.3.23->-r requirements.txt (line 3)) (12.1.105)\n",
            "Requirement already satisfied: nvidia-cuda-cupti-cu12==12.1.105 in /usr/local/lib/python3.10/dist-packages (from torch>=1.11.0->sentence-transformers>=2.2.2->chromadb==0.3.23->-r requirements.txt (line 3)) (12.1.105)\n",
            "Requirement already satisfied: nvidia-cudnn-cu12==8.9.2.26 in /usr/local/lib/python3.10/dist-packages (from torch>=1.11.0->sentence-transformers>=2.2.2->chromadb==0.3.23->-r requirements.txt (line 3)) (8.9.2.26)\n",
            "Requirement already satisfied: nvidia-cublas-cu12==12.1.3.1 in /usr/local/lib/python3.10/dist-packages (from torch>=1.11.0->sentence-transformers>=2.2.2->chromadb==0.3.23->-r requirements.txt (line 3)) (12.1.3.1)\n",
            "Requirement already satisfied: nvidia-cufft-cu12==11.0.2.54 in /usr/local/lib/python3.10/dist-packages (from torch>=1.11.0->sentence-transformers>=2.2.2->chromadb==0.3.23->-r requirements.txt (line 3)) (11.0.2.54)\n",
            "Requirement already satisfied: nvidia-curand-cu12==10.3.2.106 in /usr/local/lib/python3.10/dist-packages (from torch>=1.11.0->sentence-transformers>=2.2.2->chromadb==0.3.23->-r requirements.txt (line 3)) (10.3.2.106)\n",
            "Requirement already satisfied: nvidia-cusolver-cu12==11.4.5.107 in /usr/local/lib/python3.10/dist-packages (from torch>=1.11.0->sentence-transformers>=2.2.2->chromadb==0.3.23->-r requirements.txt (line 3)) (11.4.5.107)\n",
            "Requirement already satisfied: nvidia-cusparse-cu12==12.1.0.106 in /usr/local/lib/python3.10/dist-packages (from torch>=1.11.0->sentence-transformers>=2.2.2->chromadb==0.3.23->-r requirements.txt (line 3)) (12.1.0.106)\n",
            "Requirement already satisfied: nvidia-nccl-cu12==2.20.5 in /usr/local/lib/python3.10/dist-packages (from torch>=1.11.0->sentence-transformers>=2.2.2->chromadb==0.3.23->-r requirements.txt (line 3)) (2.20.5)\n",
            "Requirement already satisfied: nvidia-nvtx-cu12==12.1.105 in /usr/local/lib/python3.10/dist-packages (from torch>=1.11.0->sentence-transformers>=2.2.2->chromadb==0.3.23->-r requirements.txt (line 3)) (12.1.105)\n",
            "Requirement already satisfied: triton==2.3.0 in /usr/local/lib/python3.10/dist-packages (from torch>=1.11.0->sentence-transformers>=2.2.2->chromadb==0.3.23->-r requirements.txt (line 3)) (2.3.0)\n",
            "Requirement already satisfied: nvidia-nvjitlink-cu12 in /usr/local/lib/python3.10/dist-packages (from nvidia-cusolver-cu12==11.4.5.107->torch>=1.11.0->sentence-transformers>=2.2.2->chromadb==0.3.23->-r requirements.txt (line 3)) (12.5.40)\n",
            "Requirement already satisfied: tokenizers<0.20,>=0.19 in /usr/local/lib/python3.10/dist-packages (from transformers<5.0.0,>=4.34.0->sentence-transformers>=2.2.2->chromadb==0.3.23->-r requirements.txt (line 3)) (0.19.1)\n",
            "Requirement already satisfied: safetensors>=0.4.1 in /usr/local/lib/python3.10/dist-packages (from transformers<5.0.0,>=4.34.0->sentence-transformers>=2.2.2->chromadb==0.3.23->-r requirements.txt (line 3)) (0.4.3)\n",
            "Requirement already satisfied: shellingham>=1.3.0 in /usr/local/lib/python3.10/dist-packages (from typer<1.0.0,>=0.6.0->argilla->unstructured==0.6.6->-r requirements.txt (line 8)) (1.5.4)\n",
            "Requirement already satisfied: mypy-extensions>=0.3.0 in /usr/local/lib/python3.10/dist-packages (from typing-inspect<1,>=0.4.0->dataclasses-json<0.6.0,>=0.5.7->langchain==0.0.177->-r requirements.txt (line 1)) (1.0.0)\n",
            "Requirement already satisfied: tzdata in /usr/local/lib/python3.10/dist-packages (from pytz-deprecation-shim->tzlocal==4.2->extract-msg==0.41.1->-r requirements.txt (line 9)) (2024.1)\n",
            "Requirement already satisfied: threadpoolctl>=2.0.0 in /usr/local/lib/python3.10/dist-packages (from scikit-learn->sentence-transformers>=2.2.2->chromadb==0.3.23->-r requirements.txt (line 3)) (3.5.0)\n",
            "Requirement already satisfied: exceptiongroup in /usr/local/lib/python3.10/dist-packages (from anyio<5,>=3.4.0->starlette<0.38.0,>=0.37.2->fastapi>=0.85.1->chromadb==0.3.23->-r requirements.txt (line 3)) (1.2.1)\n",
            "Requirement already satisfied: mpmath>=0.19 in /usr/local/lib/python3.10/dist-packages (from sympy->torch>=1.11.0->sentence-transformers>=2.2.2->chromadb==0.3.23->-r requirements.txt (line 3)) (1.3.0)\n",
            "Installing collected packages: llama-cpp-python\n",
            "  Attempting uninstall: llama-cpp-python\n",
            "    Found existing installation: llama_cpp_python 0.1.65\n",
            "    Uninstalling llama_cpp_python-0.1.65:\n",
            "      Successfully uninstalled llama_cpp_python-0.1.65\n",
            "Successfully installed llama-cpp-python-0.1.50\n",
            "Found existing installation: llama_cpp_python 0.1.50\n",
            "Uninstalling llama_cpp_python-0.1.50:\n",
            "  Successfully uninstalled llama_cpp_python-0.1.50\n",
            "Collecting llama-cpp-python\n",
            "  Using cached llama_cpp_python-0.2.76-cp310-cp310-linux_x86_64.whl\n",
            "Requirement already satisfied: typing-extensions>=4.5.0 in /usr/local/lib/python3.10/dist-packages (from llama-cpp-python) (4.12.0)\n",
            "Requirement already satisfied: numpy>=1.20.0 in /usr/local/lib/python3.10/dist-packages (from llama-cpp-python) (1.23.5)\n",
            "Requirement already satisfied: diskcache>=5.6.1 in /usr/local/lib/python3.10/dist-packages (from llama-cpp-python) (5.6.3)\n",
            "Requirement already satisfied: jinja2>=2.11.3 in /usr/local/lib/python3.10/dist-packages (from llama-cpp-python) (3.1.4)\n",
            "Requirement already satisfied: MarkupSafe>=2.0 in /usr/local/lib/python3.10/dist-packages (from jinja2>=2.11.3->llama-cpp-python) (2.1.5)\n",
            "Installing collected packages: llama-cpp-python\n",
            "Successfully installed llama-cpp-python-0.2.76\n",
            "Requirement already satisfied: langchain in /usr/local/lib/python3.10/dist-packages (0.0.177)\n",
            "Requirement already satisfied: PyYAML>=5.4.1 in /usr/local/lib/python3.10/dist-packages (from langchain) (6.0.1)\n",
            "Requirement already satisfied: SQLAlchemy<3,>=1.4 in /usr/local/lib/python3.10/dist-packages (from langchain) (2.0.30)\n",
            "Requirement already satisfied: aiohttp<4.0.0,>=3.8.3 in /usr/local/lib/python3.10/dist-packages (from langchain) (3.9.5)\n",
            "Requirement already satisfied: async-timeout<5.0.0,>=4.0.0 in /usr/local/lib/python3.10/dist-packages (from langchain) (4.0.3)\n",
            "Requirement already satisfied: dataclasses-json<0.6.0,>=0.5.7 in /usr/local/lib/python3.10/dist-packages (from langchain) (0.5.14)\n",
            "Requirement already satisfied: numexpr<3.0.0,>=2.8.4 in /usr/local/lib/python3.10/dist-packages (from langchain) (2.10.0)\n",
            "Requirement already satisfied: numpy<2,>=1 in /usr/local/lib/python3.10/dist-packages (from langchain) (1.23.5)\n",
            "Requirement already satisfied: openapi-schema-pydantic<2.0,>=1.2 in /usr/local/lib/python3.10/dist-packages (from langchain) (1.2.4)\n",
            "Requirement already satisfied: pydantic<2,>=1 in /usr/local/lib/python3.10/dist-packages (from langchain) (1.10.15)\n",
            "Requirement already satisfied: requests<3,>=2 in /usr/local/lib/python3.10/dist-packages (from langchain) (2.31.0)\n",
            "Requirement already satisfied: tenacity<9.0.0,>=8.1.0 in /usr/local/lib/python3.10/dist-packages (from langchain) (8.3.0)\n",
            "Requirement already satisfied: aiosignal>=1.1.2 in /usr/local/lib/python3.10/dist-packages (from aiohttp<4.0.0,>=3.8.3->langchain) (1.3.1)\n",
            "Requirement already satisfied: attrs>=17.3.0 in /usr/local/lib/python3.10/dist-packages (from aiohttp<4.0.0,>=3.8.3->langchain) (23.2.0)\n",
            "Requirement already satisfied: frozenlist>=1.1.1 in /usr/local/lib/python3.10/dist-packages (from aiohttp<4.0.0,>=3.8.3->langchain) (1.4.1)\n",
            "Requirement already satisfied: multidict<7.0,>=4.5 in /usr/local/lib/python3.10/dist-packages (from aiohttp<4.0.0,>=3.8.3->langchain) (6.0.5)\n",
            "Requirement already satisfied: yarl<2.0,>=1.0 in /usr/local/lib/python3.10/dist-packages (from aiohttp<4.0.0,>=3.8.3->langchain) (1.9.4)\n",
            "Requirement already satisfied: marshmallow<4.0.0,>=3.18.0 in /usr/local/lib/python3.10/dist-packages (from dataclasses-json<0.6.0,>=0.5.7->langchain) (3.21.2)\n",
            "Requirement already satisfied: typing-inspect<1,>=0.4.0 in /usr/local/lib/python3.10/dist-packages (from dataclasses-json<0.6.0,>=0.5.7->langchain) (0.9.0)\n",
            "Requirement already satisfied: typing-extensions>=4.2.0 in /usr/local/lib/python3.10/dist-packages (from pydantic<2,>=1->langchain) (4.12.0)\n",
            "Requirement already satisfied: charset-normalizer<4,>=2 in /usr/local/lib/python3.10/dist-packages (from requests<3,>=2->langchain) (3.3.2)\n",
            "Requirement already satisfied: idna<4,>=2.5 in /usr/local/lib/python3.10/dist-packages (from requests<3,>=2->langchain) (3.7)\n",
            "Requirement already satisfied: urllib3<3,>=1.21.1 in /usr/local/lib/python3.10/dist-packages (from requests<3,>=2->langchain) (2.0.2)\n",
            "Requirement already satisfied: certifi>=2017.4.17 in /usr/local/lib/python3.10/dist-packages (from requests<3,>=2->langchain) (2024.2.2)\n",
            "Requirement already satisfied: greenlet!=0.4.17 in /usr/local/lib/python3.10/dist-packages (from SQLAlchemy<3,>=1.4->langchain) (3.0.3)\n",
            "Requirement already satisfied: packaging>=17.0 in /usr/local/lib/python3.10/dist-packages (from marshmallow<4.0.0,>=3.18.0->dataclasses-json<0.6.0,>=0.5.7->langchain) (24.0)\n",
            "Requirement already satisfied: mypy-extensions>=0.3.0 in /usr/local/lib/python3.10/dist-packages (from typing-inspect<1,>=0.4.0->dataclasses-json<0.6.0,>=0.5.7->langchain) (1.0.0)\n"
          ]
        }
      ],
      "source": [
        "# Install dependencies\n",
        "%cd /content/drive/MyDrive/privateGPT\n",
        "!pip3 install -r requirements.txt\n",
        "\n",
        "!pip3 uninstall llama-cpp-python -y\n",
        "!CMAKE_ARGS=\"-DLLAMA_CUBLAS=on\" FORCE_CMAKE=1 pip3 install llama-cpp-python\n",
        "\n",
        "!pip3 install langchain"
      ]
    },
    {
      "cell_type": "code",
      "execution_count": 4,
      "metadata": {
        "colab": {
          "base_uri": "https://localhost:8080/"
        },
        "id": "2qopnwcq9skt",
        "outputId": "e3c40b4f-aaea-4270-f898-871423cd865a"
      },
      "outputs": [
        {
          "output_type": "stream",
          "name": "stdout",
          "text": [
            "Collecting llama-cpp-python==0.1.65\n",
            "  Downloading llama_cpp_python-0.1.65.tar.gz (1.5 MB)\n",
            "\u001b[2K     \u001b[90m━━━━━━━━━━━━━━━━━━━━━━━━━━━━━━━━━━━━━━━━\u001b[0m \u001b[32m1.5/1.5 MB\u001b[0m \u001b[31m15.7 MB/s\u001b[0m eta \u001b[36m0:00:00\u001b[0m\n",
            "\u001b[?25h  Installing build dependencies ... \u001b[?25l\u001b[?25hdone\n",
            "  Getting requirements to build wheel ... \u001b[?25l\u001b[?25hdone\n",
            "  Preparing metadata (pyproject.toml) ... \u001b[?25l\u001b[?25hdone\n",
            "Collecting typing-extensions>=4.5.0 (from llama-cpp-python==0.1.65)\n",
            "  Downloading typing_extensions-4.12.0-py3-none-any.whl (37 kB)\n",
            "Collecting numpy>=1.20.0 (from llama-cpp-python==0.1.65)\n",
            "  Downloading numpy-1.26.4-cp310-cp310-manylinux_2_17_x86_64.manylinux2014_x86_64.whl (18.2 MB)\n",
            "\u001b[2K     \u001b[90m━━━━━━━━━━━━━━━━━━━━━━━━━━━━━━━━━━━━━━━━\u001b[0m \u001b[32m18.2/18.2 MB\u001b[0m \u001b[31m124.5 MB/s\u001b[0m eta \u001b[36m0:00:00\u001b[0m\n",
            "\u001b[?25hCollecting diskcache>=5.6.1 (from llama-cpp-python==0.1.65)\n",
            "  Downloading diskcache-5.6.3-py3-none-any.whl (45 kB)\n",
            "\u001b[2K     \u001b[90m━━━━━━━━━━━━━━━━━━━━━━━━━━━━━━━━━━━━━━━━\u001b[0m \u001b[32m45.5/45.5 kB\u001b[0m \u001b[31m167.6 MB/s\u001b[0m eta \u001b[36m0:00:00\u001b[0m\n",
            "\u001b[?25hBuilding wheels for collected packages: llama-cpp-python\n",
            "  Building wheel for llama-cpp-python (pyproject.toml) ... \u001b[?25l\u001b[?25hdone\n",
            "  Created wheel for llama-cpp-python: filename=llama_cpp_python-0.1.65-cp310-cp310-linux_x86_64.whl size=261612 sha256=ff69fcb54814e9558f2cc72f77daf8d05f6261ea50b70f83d0fedcf13da37105\n",
            "  Stored in directory: /tmp/pip-ephem-wheel-cache-zykl8kw7/wheels/e0/62/84/21f820209ad725e813c2dd41eeda1a0dcb9184af7022d55c0d\n",
            "Successfully built llama-cpp-python\n",
            "Installing collected packages: typing-extensions, numpy, diskcache, llama-cpp-python\n",
            "  Attempting uninstall: typing-extensions\n",
            "    Found existing installation: typing_extensions 4.12.0\n",
            "    Uninstalling typing_extensions-4.12.0:\n",
            "      Successfully uninstalled typing_extensions-4.12.0\n",
            "  Attempting uninstall: numpy\n",
            "    Found existing installation: numpy 1.23.5\n",
            "    Uninstalling numpy-1.23.5:\n",
            "      Successfully uninstalled numpy-1.23.5\n",
            "  Attempting uninstall: diskcache\n",
            "    Found existing installation: diskcache 5.6.3\n",
            "    Uninstalling diskcache-5.6.3:\n",
            "      Successfully uninstalled diskcache-5.6.3\n",
            "  Attempting uninstall: llama-cpp-python\n",
            "    Found existing installation: llama_cpp_python 0.2.76\n",
            "    Uninstalling llama_cpp_python-0.2.76:\n",
            "      Successfully uninstalled llama_cpp_python-0.2.76\n",
            "\u001b[31mERROR: pip's dependency resolver does not currently take into account all the packages that are installed. This behaviour is the source of the following dependency conflicts.\n",
            "argilla 1.11.0 requires numpy<1.24.0, but you have numpy 1.26.4 which is incompatible.\n",
            "cudf-cu12 24.4.1 requires pandas<2.2.2dev0,>=2.0, but you have pandas 1.5.3 which is incompatible.\n",
            "spacy 3.7.4 requires typer<0.10.0,>=0.3.0, but you have typer 0.12.3 which is incompatible.\n",
            "weasel 0.3.4 requires typer<0.10.0,>=0.3.0, but you have typer 0.12.3 which is incompatible.\u001b[0m\u001b[31m\n",
            "\u001b[0mSuccessfully installed diskcache-5.6.3 llama-cpp-python-0.1.65 numpy-1.26.4 typing-extensions-4.12.0\n",
            "mkdir: cannot create directory ‘/content/drive/MyDrive/privateGPT/models/’: File exists\n",
            "/content/drive/MyDrive/privateGPT/models\n",
            "--2024-05-24 14:26:49--  https://huggingface.co/TheBloke/koala-7B-GGML/resolve/main/koala-7B.ggmlv3.q4_0.bin\n",
            "Resolving huggingface.co (huggingface.co)... 3.163.189.90, 3.163.189.74, 3.163.189.114, ...\n",
            "Connecting to huggingface.co (huggingface.co)|3.163.189.90|:443... connected.\n",
            "HTTP request sent, awaiting response... 302 Found\n",
            "Location: https://cdn-lfs.huggingface.co/repos/ae/22/ae2292e38543c2d70fed98ce18c9b79c6de4d26534acaa923a19c73c153cc7a9/14bcd51fbc09bcc456c79f9f0e4d070ad536e9d9e03811232e037b62580fe5e7?response-content-disposition=attachment%3B+filename*%3DUTF-8%27%27koala-7B.ggmlv3.q4_0.bin%3B+filename%3D%22koala-7B.ggmlv3.q4_0.bin%22%3B&response-content-type=application%2Foctet-stream&Expires=1716820009&Policy=eyJTdGF0ZW1lbnQiOlt7IkNvbmRpdGlvbiI6eyJEYXRlTGVzc1RoYW4iOnsiQVdTOkVwb2NoVGltZSI6MTcxNjgyMDAwOX19LCJSZXNvdXJjZSI6Imh0dHBzOi8vY2RuLWxmcy5odWdnaW5nZmFjZS5jby9yZXBvcy9hZS8yMi9hZTIyOTJlMzg1NDNjMmQ3MGZlZDk4Y2UxOGM5Yjc5YzZkZTRkMjY1MzRhY2FhOTIzYTE5YzczYzE1M2NjN2E5LzE0YmNkNTFmYmMwOWJjYzQ1NmM3OWY5ZjBlNGQwNzBhZDUzNmU5ZDllMDM4MTEyMzJlMDM3YjYyNTgwZmU1ZTc%7EcmVzcG9uc2UtY29udGVudC1kaXNwb3NpdGlvbj0qJnJlc3BvbnNlLWNvbnRlbnQtdHlwZT0qIn1dfQ__&Signature=hAyzE5Yu1nXlTu2H-2G8%7EH5tOh7hQu39c9ETys3BkC-iJZyNfSecDfyhWYZFlFHPHliScH69VZoT7VgwZ7sMzHQZ%7E8xEkAuHvMNiv8wVpk7au4M4VAw63nRK0nHdl-9xYunEJ34KG-0mjvxqKYwIPZ89taHbNXOs1%7E4SrpZ%7EQnK7sKD5zQrliU8xSMGqhCH2DNB1Zk40QynU2lN4PtCvbjYetTzDGqf9%7EmA0hyUQoHB7Bpul4UgTQ7SuLD%7EgRHaH-F0lYsLsC6Q-mLMJ5mttKzeCCxVZnaIhee96NAuykLAhKgFouKzQWEtENxrWeycPmxR4SOR5cIUZ4Rk3jmEp1Q__&Key-Pair-Id=KVTP0A1DKRTAX [following]\n",
            "--2024-05-24 14:26:49--  https://cdn-lfs.huggingface.co/repos/ae/22/ae2292e38543c2d70fed98ce18c9b79c6de4d26534acaa923a19c73c153cc7a9/14bcd51fbc09bcc456c79f9f0e4d070ad536e9d9e03811232e037b62580fe5e7?response-content-disposition=attachment%3B+filename*%3DUTF-8%27%27koala-7B.ggmlv3.q4_0.bin%3B+filename%3D%22koala-7B.ggmlv3.q4_0.bin%22%3B&response-content-type=application%2Foctet-stream&Expires=1716820009&Policy=eyJTdGF0ZW1lbnQiOlt7IkNvbmRpdGlvbiI6eyJEYXRlTGVzc1RoYW4iOnsiQVdTOkVwb2NoVGltZSI6MTcxNjgyMDAwOX19LCJSZXNvdXJjZSI6Imh0dHBzOi8vY2RuLWxmcy5odWdnaW5nZmFjZS5jby9yZXBvcy9hZS8yMi9hZTIyOTJlMzg1NDNjMmQ3MGZlZDk4Y2UxOGM5Yjc5YzZkZTRkMjY1MzRhY2FhOTIzYTE5YzczYzE1M2NjN2E5LzE0YmNkNTFmYmMwOWJjYzQ1NmM3OWY5ZjBlNGQwNzBhZDUzNmU5ZDllMDM4MTEyMzJlMDM3YjYyNTgwZmU1ZTc%7EcmVzcG9uc2UtY29udGVudC1kaXNwb3NpdGlvbj0qJnJlc3BvbnNlLWNvbnRlbnQtdHlwZT0qIn1dfQ__&Signature=hAyzE5Yu1nXlTu2H-2G8%7EH5tOh7hQu39c9ETys3BkC-iJZyNfSecDfyhWYZFlFHPHliScH69VZoT7VgwZ7sMzHQZ%7E8xEkAuHvMNiv8wVpk7au4M4VAw63nRK0nHdl-9xYunEJ34KG-0mjvxqKYwIPZ89taHbNXOs1%7E4SrpZ%7EQnK7sKD5zQrliU8xSMGqhCH2DNB1Zk40QynU2lN4PtCvbjYetTzDGqf9%7EmA0hyUQoHB7Bpul4UgTQ7SuLD%7EgRHaH-F0lYsLsC6Q-mLMJ5mttKzeCCxVZnaIhee96NAuykLAhKgFouKzQWEtENxrWeycPmxR4SOR5cIUZ4Rk3jmEp1Q__&Key-Pair-Id=KVTP0A1DKRTAX\n",
            "Resolving cdn-lfs.huggingface.co (cdn-lfs.huggingface.co)... 108.138.94.14, 108.138.94.23, 108.138.94.122, ...\n",
            "Connecting to cdn-lfs.huggingface.co (cdn-lfs.huggingface.co)|108.138.94.14|:443... connected.\n",
            "HTTP request sent, awaiting response... 200 OK\n",
            "Length: 3791725184 (3.5G) [application/octet-stream]\n",
            "Saving to: ‘koala-7B.ggmlv3.q4_0.bin.4’\n",
            "\n",
            "koala-7B.ggmlv3.q4_ 100%[===================>]   3.53G  55.3MB/s    in 2m 4s   \n",
            "\n",
            "2024-05-24 14:28:53 (29.2 MB/s) - ‘koala-7B.ggmlv3.q4_0.bin.4’ saved [3791725184/3791725184]\n",
            "\n"
          ]
        }
      ],
      "source": [
        "# Install Koala 7B GGMLv3 Q4\n",
        "\n",
        "!pip install llama-cpp-python==0.1.65 --force-reinstall --upgrade --no-cache-dir\n",
        "\n",
        "!mkdir /content/drive/MyDrive/privateGPT/models/\n",
        "%cd /content/drive/MyDrive/privateGPT/models/\n",
        "!wget https://huggingface.co/TheBloke/koala-7B-GGML/resolve/main/koala-7B.ggmlv3.q4_0.bin"
      ]
    },
    {
      "cell_type": "code",
      "execution_count": 5,
      "metadata": {
        "colab": {
          "base_uri": "https://localhost:8080/"
        },
        "id": "pk1pUoMH-DMl",
        "outputId": "5e454d19-69b0-4968-b21c-3ebc952d7c6b"
      },
      "outputs": [
        {
          "output_type": "stream",
          "name": "stdout",
          "text": [
            "mv: cannot stat '/content/drive/MyDrive/privateGPT/example.env': No such file or directory\n"
          ]
        }
      ],
      "source": [
        "# Modify .env\n",
        "!mv /content/drive/MyDrive/privateGPT/example.env /content/drive/MyDrive/privateGPT/.env\n",
        "!sed -i 's/n_gpu_layers=10/n_gpu_layers=500/' /content/drive/MyDrive/privateGPT/.env\n",
        "!sed -i 's/MODEL_TYPE=GPT4All/MODEL_TYPE=LlamaCpp/' /content/drive/MyDrive/privateGPT/.env\n",
        "!sed -i 's/ggml-gpt4all-j-v1.3-groovy.bin/koala-7B.ggmlv3.q4_0.bin/' /content/drive/MyDrive/privateGPT/.env\n",
        "!sed -i 's/IS_GPU_ENABLED=False/IS_GPU_ENABLED=True/' /content/drive/MyDrive/privateGPT/.env"
      ]
    },
    {
      "cell_type": "code",
      "execution_count": 1,
      "metadata": {
        "colab": {
          "base_uri": "https://localhost:8080/"
        },
        "id": "jhHm780qJ117",
        "outputId": "01e7e437-457e-4d04-b22d-77aa8fdf6418"
      },
      "outputs": [
        {
          "output_type": "stream",
          "name": "stdout",
          "text": [
            "Reading package lists... Done\n",
            "Building dependency tree... Done\n",
            "Reading state information... Done\n",
            "pandoc is already the newest version (2.9.2.1-3ubuntu2).\n",
            "0 upgraded, 0 newly installed, 0 to remove and 45 not upgraded.\n",
            "Requirement already satisfied: unstructured in /usr/local/lib/python3.10/dist-packages (0.6.6)\n",
            "Requirement already satisfied: argilla in /usr/local/lib/python3.10/dist-packages (from unstructured) (1.11.0)\n",
            "Requirement already satisfied: lxml in /usr/local/lib/python3.10/dist-packages (from unstructured) (4.9.4)\n",
            "Requirement already satisfied: msg-parser in /usr/local/lib/python3.10/dist-packages (from unstructured) (1.2.0)\n",
            "Requirement already satisfied: nltk in /usr/local/lib/python3.10/dist-packages (from unstructured) (3.8.1)\n",
            "Requirement already satisfied: openpyxl in /usr/local/lib/python3.10/dist-packages (from unstructured) (3.1.2)\n",
            "Requirement already satisfied: pandas in /usr/local/lib/python3.10/dist-packages (from unstructured) (1.5.3)\n",
            "Requirement already satisfied: pdfminer.six in /usr/local/lib/python3.10/dist-packages (from unstructured) (20221105)\n",
            "Requirement already satisfied: pillow in /usr/local/lib/python3.10/dist-packages (from unstructured) (9.4.0)\n",
            "Requirement already satisfied: pypandoc in /usr/local/lib/python3.10/dist-packages (from unstructured) (1.11)\n",
            "Requirement already satisfied: python-docx in /usr/local/lib/python3.10/dist-packages (from unstructured) (1.1.2)\n",
            "Requirement already satisfied: python-pptx in /usr/local/lib/python3.10/dist-packages (from unstructured) (0.6.23)\n",
            "Requirement already satisfied: python-magic in /usr/local/lib/python3.10/dist-packages (from unstructured) (0.4.27)\n",
            "Requirement already satisfied: markdown in /usr/local/lib/python3.10/dist-packages (from unstructured) (3.6)\n",
            "Requirement already satisfied: requests in /usr/local/lib/python3.10/dist-packages (from unstructured) (2.31.0)\n",
            "Requirement already satisfied: certifi>=2022.12.07 in /usr/local/lib/python3.10/dist-packages (from unstructured) (2024.2.2)\n",
            "Requirement already satisfied: httpx<0.24,>=0.15 in /usr/local/lib/python3.10/dist-packages (from argilla->unstructured) (0.23.3)\n",
            "Requirement already satisfied: deprecated~=1.2.0 in /usr/local/lib/python3.10/dist-packages (from argilla->unstructured) (1.2.14)\n",
            "Requirement already satisfied: packaging>=20.0 in /usr/local/lib/python3.10/dist-packages (from argilla->unstructured) (24.0)\n",
            "Requirement already satisfied: pydantic>=1.10.7 in /usr/local/lib/python3.10/dist-packages (from argilla->unstructured) (1.10.15)\n",
            "Requirement already satisfied: wrapt<1.15,>=1.13 in /usr/local/lib/python3.10/dist-packages (from argilla->unstructured) (1.14.1)\n",
            "Requirement already satisfied: numpy<1.24.0 in /usr/local/lib/python3.10/dist-packages (from argilla->unstructured) (1.23.5)\n",
            "Requirement already satisfied: tqdm>=4.27.0 in /usr/local/lib/python3.10/dist-packages (from argilla->unstructured) (4.65.0)\n",
            "Requirement already satisfied: backoff in /usr/local/lib/python3.10/dist-packages (from argilla->unstructured) (2.2.1)\n",
            "Requirement already satisfied: monotonic in /usr/local/lib/python3.10/dist-packages (from argilla->unstructured) (1.6)\n",
            "Requirement already satisfied: rich<=13.0.1 in /usr/local/lib/python3.10/dist-packages (from argilla->unstructured) (13.0.1)\n",
            "Requirement already satisfied: typer<1.0.0,>=0.6.0 in /usr/local/lib/python3.10/dist-packages (from argilla->unstructured) (0.12.3)\n",
            "Requirement already satisfied: python-dateutil>=2.8.1 in /usr/local/lib/python3.10/dist-packages (from pandas->unstructured) (2.8.2)\n",
            "Requirement already satisfied: pytz>=2020.1 in /usr/local/lib/python3.10/dist-packages (from pandas->unstructured) (2023.4)\n",
            "Requirement already satisfied: olefile>=0.46 in /usr/local/lib/python3.10/dist-packages (from msg-parser->unstructured) (0.46)\n",
            "Requirement already satisfied: click in /usr/local/lib/python3.10/dist-packages (from nltk->unstructured) (8.1.7)\n",
            "Requirement already satisfied: joblib in /usr/local/lib/python3.10/dist-packages (from nltk->unstructured) (1.4.2)\n",
            "Requirement already satisfied: regex>=2021.8.3 in /usr/local/lib/python3.10/dist-packages (from nltk->unstructured) (2023.12.25)\n",
            "Requirement already satisfied: et-xmlfile in /usr/local/lib/python3.10/dist-packages (from openpyxl->unstructured) (1.1.0)\n",
            "Requirement already satisfied: charset-normalizer>=2.0.0 in /usr/local/lib/python3.10/dist-packages (from pdfminer.six->unstructured) (3.3.2)\n",
            "Requirement already satisfied: cryptography>=36.0.0 in /usr/local/lib/python3.10/dist-packages (from pdfminer.six->unstructured) (42.0.7)\n",
            "Requirement already satisfied: typing-extensions>=4.9.0 in /usr/local/lib/python3.10/dist-packages (from python-docx->unstructured) (4.12.0)\n",
            "Requirement already satisfied: XlsxWriter>=0.5.7 in /usr/local/lib/python3.10/dist-packages (from python-pptx->unstructured) (3.2.0)\n",
            "Requirement already satisfied: idna<4,>=2.5 in /usr/local/lib/python3.10/dist-packages (from requests->unstructured) (3.7)\n",
            "Requirement already satisfied: urllib3<3,>=1.21.1 in /usr/local/lib/python3.10/dist-packages (from requests->unstructured) (2.0.2)\n",
            "Requirement already satisfied: cffi>=1.12 in /usr/local/lib/python3.10/dist-packages (from cryptography>=36.0.0->pdfminer.six->unstructured) (1.16.0)\n",
            "Requirement already satisfied: httpcore<0.17.0,>=0.15.0 in /usr/local/lib/python3.10/dist-packages (from httpx<0.24,>=0.15->argilla->unstructured) (0.16.3)\n",
            "Requirement already satisfied: rfc3986[idna2008]<2,>=1.3 in /usr/local/lib/python3.10/dist-packages (from httpx<0.24,>=0.15->argilla->unstructured) (1.5.0)\n",
            "Requirement already satisfied: sniffio in /usr/local/lib/python3.10/dist-packages (from httpx<0.24,>=0.15->argilla->unstructured) (1.3.1)\n",
            "Requirement already satisfied: six>=1.5 in /usr/local/lib/python3.10/dist-packages (from python-dateutil>=2.8.1->pandas->unstructured) (1.16.0)\n",
            "Requirement already satisfied: commonmark<0.10.0,>=0.9.0 in /usr/local/lib/python3.10/dist-packages (from rich<=13.0.1->argilla->unstructured) (0.9.1)\n",
            "Requirement already satisfied: pygments<3.0.0,>=2.6.0 in /usr/local/lib/python3.10/dist-packages (from rich<=13.0.1->argilla->unstructured) (2.16.1)\n",
            "Requirement already satisfied: shellingham>=1.3.0 in /usr/local/lib/python3.10/dist-packages (from typer<1.0.0,>=0.6.0->argilla->unstructured) (1.5.4)\n",
            "Requirement already satisfied: pycparser in /usr/local/lib/python3.10/dist-packages (from cffi>=1.12->cryptography>=36.0.0->pdfminer.six->unstructured) (2.22)\n",
            "Requirement already satisfied: h11<0.15,>=0.13 in /usr/local/lib/python3.10/dist-packages (from httpcore<0.17.0,>=0.15.0->httpx<0.24,>=0.15->argilla->unstructured) (0.14.0)\n",
            "Requirement already satisfied: anyio<5.0,>=3.0 in /usr/local/lib/python3.10/dist-packages (from httpcore<0.17.0,>=0.15.0->httpx<0.24,>=0.15->argilla->unstructured) (3.7.1)\n",
            "Requirement already satisfied: exceptiongroup in /usr/local/lib/python3.10/dist-packages (from anyio<5.0,>=3.0->httpcore<0.17.0,>=0.15.0->httpx<0.24,>=0.15->argilla->unstructured) (1.2.1)\n"
          ]
        }
      ],
      "source": [
        "# These were required before (for some filetypes), idk now\n",
        "!apt install pandoc\n",
        "!pip3 install unstructured"
      ]
    },
    {
      "cell_type": "code",
      "execution_count": 2,
      "metadata": {
        "colab": {
          "base_uri": "https://localhost:8080/"
        },
        "id": "-TTp7iP31avS",
        "outputId": "ad519841-b066-4255-f482-a820e5f3f9a7"
      },
      "outputs": [
        {
          "output_type": "stream",
          "name": "stdout",
          "text": [
            "/content/drive/MyDrive/privateGPT\n",
            "/usr/local/lib/python3.10/dist-packages/huggingface_hub/file_download.py:1132: FutureWarning: `resume_download` is deprecated and will be removed in version 1.0.0. Downloads always resume when possible. If you want to force a new download, use `force_download=True`.\n",
            "  warnings.warn(\n",
            "Appending to existing vectorstore at db\n",
            "Using embedded DuckDB with persistence: data will be stored in: db\n",
            "Loading documents from source_documents\n",
            "Loading new documents: 0it [00:00, ?it/s]\n",
            "No new documents to load\n"
          ]
        }
      ],
      "source": [
        "# Ingest sources\n",
        "%cd  /content/drive/MyDrive/privateGPT/\n",
        "!python3 ingest.py"
      ]
    },
    {
      "cell_type": "code",
      "execution_count": 4,
      "metadata": {
        "colab": {
          "base_uri": "https://localhost:8080/"
        },
        "id": "B5ix9BwCD1Zu",
        "outputId": "13b4c998-4ef3-4267-d3e0-f40dfd3c6d53"
      },
      "outputs": [
        {
          "output_type": "stream",
          "name": "stdout",
          "text": [
            "/content/drive/MyDrive/privateGPT\n",
            "/usr/local/lib/python3.10/dist-packages/huggingface_hub/file_download.py:1132: FutureWarning: `resume_download` is deprecated and will be removed in version 1.0.0. Downloads always resume when possible. If you want to force a new download, use `force_download=True`.\n",
            "  warnings.warn(\n",
            "Using embedded DuckDB with persistence: data will be stored in: db\n",
            "llama.cpp: loading model from models/koala-7B.ggmlv3.q4_0.bin\n",
            "llama_model_load_internal: format     = ggjt v3 (latest)\n",
            "llama_model_load_internal: n_vocab    = 32000\n",
            "llama_model_load_internal: n_ctx      = 1000\n",
            "llama_model_load_internal: n_embd     = 4096\n",
            "llama_model_load_internal: n_mult     = 256\n",
            "llama_model_load_internal: n_head     = 32\n",
            "llama_model_load_internal: n_layer    = 32\n",
            "llama_model_load_internal: n_rot      = 128\n",
            "llama_model_load_internal: ftype      = 2 (mostly Q4_0)\n",
            "llama_model_load_internal: n_ff       = 11008\n",
            "llama_model_load_internal: n_parts    = 1\n",
            "llama_model_load_internal: model size = 7B\n",
            "llama_model_load_internal: ggml ctx size =    0.07 MB\n",
            "llama_model_load_internal: mem required  = 5407.71 MB (+ 1026.00 MB per state)\n",
            "...................................................................................................\n",
            "llama_init_from_file: kv self size  =  500.00 MB\n",
            "AVX = 1 | AVX2 = 1 | AVX512 = 0 | AVX512_VBMI = 0 | AVX512_VNNI = 0 | FMA = 1 | NEON = 0 | ARM_FMA = 0 | F16C = 1 | FP16_VA = 0 | WASM_SIMD = 0 | BLAS = 0 | SSE3 = 1 | VSX = 0 | \n",
            "\n",
            "Enter a query: Can you tell me what do I own do FOI library if I lose a book?\n",
            "Traceback (most recent call last):\n",
            "  File \"/content/drive/MyDrive/privateGPT/privateGPT.py\", line 101, in <module>\n",
            "    main()\n",
            "  File \"/content/drive/MyDrive/privateGPT/privateGPT.py\", line 73, in main\n",
            "    res = qa(query)\n",
            "  File \"/usr/local/lib/python3.10/dist-packages/langchain/chains/base.py\", line 140, in __call__\n",
            "    raise e\n",
            "  File \"/usr/local/lib/python3.10/dist-packages/langchain/chains/base.py\", line 134, in __call__\n",
            "    self._call(inputs, run_manager=run_manager)\n",
            "  File \"/usr/local/lib/python3.10/dist-packages/langchain/chains/retrieval_qa/base.py\", line 120, in _call\n",
            "    answer = self.combine_documents_chain.run(\n",
            "  File \"/usr/local/lib/python3.10/dist-packages/langchain/chains/base.py\", line 239, in run\n",
            "    return self(kwargs, callbacks=callbacks)[self.output_keys[0]]\n",
            "  File \"/usr/local/lib/python3.10/dist-packages/langchain/chains/base.py\", line 140, in __call__\n",
            "    raise e\n",
            "  File \"/usr/local/lib/python3.10/dist-packages/langchain/chains/base.py\", line 134, in __call__\n",
            "    self._call(inputs, run_manager=run_manager)\n",
            "  File \"/usr/local/lib/python3.10/dist-packages/langchain/chains/combine_documents/base.py\", line 84, in _call\n",
            "    output, extra_return_dict = self.combine_docs(\n",
            "  File \"/usr/local/lib/python3.10/dist-packages/langchain/chains/combine_documents/stuff.py\", line 87, in combine_docs\n",
            "    return self.llm_chain.predict(callbacks=callbacks, **inputs), {}\n",
            "  File \"/usr/local/lib/python3.10/dist-packages/langchain/chains/llm.py\", line 213, in predict\n",
            "    return self(kwargs, callbacks=callbacks)[self.output_key]\n",
            "  File \"/usr/local/lib/python3.10/dist-packages/langchain/chains/base.py\", line 140, in __call__\n",
            "    raise e\n",
            "  File \"/usr/local/lib/python3.10/dist-packages/langchain/chains/base.py\", line 134, in __call__\n",
            "    self._call(inputs, run_manager=run_manager)\n",
            "  File \"/usr/local/lib/python3.10/dist-packages/langchain/chains/llm.py\", line 69, in _call\n",
            "    response = self.generate([inputs], run_manager=run_manager)\n",
            "  File \"/usr/local/lib/python3.10/dist-packages/langchain/chains/llm.py\", line 79, in generate\n",
            "    return self.llm.generate_prompt(\n",
            "  File \"/usr/local/lib/python3.10/dist-packages/langchain/llms/base.py\", line 134, in generate_prompt\n",
            "    return self.generate(prompt_strings, stop=stop, callbacks=callbacks)\n",
            "  File \"/usr/local/lib/python3.10/dist-packages/langchain/llms/base.py\", line 191, in generate\n",
            "    raise e\n",
            "  File \"/usr/local/lib/python3.10/dist-packages/langchain/llms/base.py\", line 185, in generate\n",
            "    self._generate(prompts, stop=stop, run_manager=run_manager)\n",
            "  File \"/usr/local/lib/python3.10/dist-packages/langchain/llms/base.py\", line 411, in _generate\n",
            "    self._call(prompt, stop=stop, run_manager=run_manager)\n",
            "  File \"/usr/local/lib/python3.10/dist-packages/langchain/llms/llamacpp.py\", line 225, in _call\n",
            "    for token in self.stream(prompt=prompt, stop=stop, run_manager=run_manager):\n",
            "  File \"/usr/local/lib/python3.10/dist-packages/langchain/llms/llamacpp.py\", line 274, in stream\n",
            "    for chunk in result:\n",
            "  File \"/usr/local/lib/python3.10/dist-packages/llama_cpp/llama.py\", line 855, in _create_completion\n",
            "    for token in self.generate(\n",
            "  File \"/usr/local/lib/python3.10/dist-packages/llama_cpp/llama.py\", line 683, in generate\n",
            "    self.eval(tokens)\n",
            "  File \"/usr/local/lib/python3.10/dist-packages/llama_cpp/llama.py\", line 412, in eval\n",
            "    return_code = llama_cpp.llama_eval(\n",
            "  File \"/usr/local/lib/python3.10/dist-packages/llama_cpp/llama_cpp.py\", line 497, in llama_eval\n",
            "    return _lib.llama_eval(ctx, tokens, n_tokens, n_past, n_threads)\n",
            "KeyboardInterrupt\n"
          ]
        }
      ],
      "source": [
        "# Run the chatbot\n",
        "%cd /content/drive/MyDrive/privateGPT/\n",
        "!python3 privateGPT.py"
      ]
    },
    {
      "cell_type": "code",
      "execution_count": null,
      "metadata": {
        "id": "3kmoljK9GQIn"
      },
      "outputs": [],
      "source": [
        "# Clear database\n",
        "!rm -rf /content/privateGPT/db"
      ]
    },
    {
      "cell_type": "code",
      "execution_count": null,
      "metadata": {
        "id": "VGrB8tGR1NE4"
      },
      "outputs": [],
      "source": [
        "# Zip the database if will reuse without recreating vectors\n",
        "!zip -r /content/db.zip /content/privateGPT/db"
      ]
    }
  ],
  "metadata": {
    "accelerator": "GPU",
    "colab": {
      "gpuType": "T4",
      "provenance": []
    },
    "gpuClass": "standard",
    "kernelspec": {
      "display_name": "Python 3",
      "name": "python3"
    },
    "language_info": {
      "name": "python"
    }
  },
  "nbformat": 4,
  "nbformat_minor": 0
}